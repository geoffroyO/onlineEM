{
 "cells": [
  {
   "cell_type": "code",
   "execution_count": 1,
   "id": "c0db8482",
   "metadata": {},
   "outputs": [],
   "source": [
    "%load_ext autoreload\n",
    "%autoreload 2\n",
    "\n",
    "import sys\n",
    "sys.path.append('../../MMST/')\n",
    "from online_em.mmst import MMST\n"
   ]
  },
  {
   "cell_type": "code",
   "execution_count": 2,
   "id": "7aa43658",
   "metadata": {},
   "outputs": [],
   "source": [
    "import numpy as np\n",
    "import jax.numpy as jnp\n",
    "def rot(theta):\n",
    "    return jnp.array([[1, 0, 0], [0, jnp.cos(theta), jnp.sin(theta)], [0, -jnp.sin(theta), jnp.cos(theta)]])\n",
    "\n",
    "pi = jnp.array([.2, .3, .5])\n",
    "mu = jnp.array([[0, 0, 0], [1, 1, 1], [2, 2, 2]])\n",
    "A = jnp.array([[1, 2, 3], [1, 1, 1], [2, 2, 2]])\n",
    "D = jnp.array([rot(jnp.pi/2), rot(jnp.pi/6), rot(jnp.pi/3)])\n",
    "nu = jnp.array([[5, 5, 5], [1, 1, 1], [10, 20, 30]])\n",
    "X, _ = MMST(np.array(pi), np.array(mu), np.array(A), np.array(D), np.array(nu)).sample(3000000)\n",
    "\n"
   ]
  },
  {
   "cell_type": "code",
   "execution_count": 3,
   "id": "f5610110",
   "metadata": {
    "scrolled": true
   },
   "outputs": [
    {
     "name": "stderr",
     "output_type": "stream",
     "text": [
      "/Users/geoffroy/miniconda3/envs/online/lib/python3.10/site-packages/sklearn/mixture/_base.py:274: ConvergenceWarning: Initialization 1 did not converge. Try different init parameters, or increase max_iter, tol or check for degenerate data.\n",
      "  warnings.warn(\n",
      "/Users/geoffroy/miniconda3/envs/online/lib/python3.10/site-packages/jax/_src/lax/lax.py:558: ComplexWarning: Casting complex values to real discards the imaginary part\n",
      "  return _convert_element_type(operand, new_dtype, weak_type=False)\n"
     ]
    },
    {
     "name": "stdout",
     "output_type": "stream",
     "text": [
      "13.799324750900269\n"
     ]
    }
   ],
   "source": [
    "from OMMST import fit\n",
    "from time import time\n",
    "a = time()\n",
    "params = fit(X, 3, 256)\n",
    "print(abs(time() - a))"
   ]
  },
  {
   "cell_type": "code",
   "execution_count": 4,
   "id": "39920cb4",
   "metadata": {},
   "outputs": [
    {
     "data": {
      "text/plain": [
       "{'weights': DeviceArray([0.28604974, 0.21339304, 0.50055722], dtype=float64),\n",
       " 'means': DeviceArray([[0.98278873, 0.97136096, 0.9796922 ],\n",
       "              [0.01570733, 0.11643781, 0.09436593],\n",
       "              [2.03358335, 1.99408063, 2.00229703]], dtype=float64),\n",
       " 'A': DeviceArray([[0.96054813, 0.97092175, 0.98390477],\n",
       "              [1.00716642, 3.2456134 , 2.14757775],\n",
       "              [1.81875413, 1.82589297, 1.85538818]], dtype=float64),\n",
       " 'D': DeviceArray([[[ 9.99999999e-01, -8.82717814e-06, -4.24731700e-05],\n",
       "               [ 2.88711794e-05,  8.66179286e-01,  4.99733373e-01],\n",
       "               [ 3.23781446e-05, -4.99733374e-01,  8.66179285e-01]],\n",
       " \n",
       "              [[ 9.99762822e-01,  1.57502579e-02,  1.50409372e-02],\n",
       "               [-1.53171729e-02,  9.99476789e-01, -2.84874031e-02],\n",
       "               [-1.54817515e-02,  2.82502619e-02,  9.99480984e-01]],\n",
       " \n",
       "              [[ 9.99931990e-01, -9.08804635e-03,  7.30912104e-03],\n",
       "               [ 7.47478909e-05,  6.31696620e-01,  7.75215696e-01],\n",
       "               [-1.16623432e-02, -7.75162427e-01,  6.31654337e-01]]],            dtype=float64),\n",
       " 'nu': DeviceArray([[ 0.96985407,  0.98315511,  0.98089933],\n",
       "              [ 5.42060161,  6.2283978 ,  5.71252583],\n",
       "              [ 6.41018985,  9.65285473, 10.97871425]],            dtype=float64, weak_type=True)}"
      ]
     },
     "execution_count": 4,
     "metadata": {},
     "output_type": "execute_result"
    }
   ],
   "source": [
    "params"
   ]
  },
  {
   "cell_type": "code",
   "execution_count": null,
   "id": "5d3a6e45",
   "metadata": {},
   "outputs": [],
   "source": []
  }
 ],
 "metadata": {
  "kernelspec": {
   "display_name": "Python [conda env:online]",
   "language": "python",
   "name": "conda-env-online-py"
  },
  "language_info": {
   "codemirror_mode": {
    "name": "ipython",
    "version": 3
   },
   "file_extension": ".py",
   "mimetype": "text/x-python",
   "name": "python",
   "nbconvert_exporter": "python",
   "pygments_lexer": "ipython3",
   "version": "3.10.10"
  }
 },
 "nbformat": 4,
 "nbformat_minor": 5
}
