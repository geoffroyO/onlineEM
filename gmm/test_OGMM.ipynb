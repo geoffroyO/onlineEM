{
 "cells": [
  {
   "cell_type": "code",
   "execution_count": null,
   "id": "2bf9b48d",
   "metadata": {},
   "outputs": [],
   "source": [
    "%load_ext autoreload\n",
    "%autoreload 2"
   ]
  },
  {
   "cell_type": "code",
   "execution_count": null,
   "id": "782654ed",
   "metadata": {},
   "outputs": [],
   "source": [
    "from OGMM import fit, predict, log_like\n",
    "\n",
    "import numpy as np\n",
    "from sklearn.datasets import make_blobs"
   ]
  },
  {
   "cell_type": "code",
   "execution_count": null,
   "id": "7ce380f8",
   "metadata": {},
   "outputs": [],
   "source": [
    "n_samples = 6400000\n",
    "centers = [[-5]*5, [0]*5, [5]*5]\n",
    "cluster_std = [0.5, 1, 0.5]\n",
    "\n",
    "\n",
    "X, y = make_blobs(n_samples=n_samples, centers=centers, cluster_std=cluster_std)\n",
    "\n",
    "n_components = 3\n",
    "batch_size = 64\n",
    "\n",
    "pi, mu, sigma = fit(X, n_components, batch_size)"
   ]
  },
  {
   "cell_type": "code",
   "execution_count": null,
   "id": "bc777505",
   "metadata": {},
   "outputs": [],
   "source": [
    "log_like(X, pi, mu, sigma)"
   ]
  },
  {
   "cell_type": "code",
   "execution_count": null,
   "id": "e7be44f1",
   "metadata": {},
   "outputs": [],
   "source": [
    "import matplotlib.pyplot as plt\n",
    "\n",
    "labels = np.array(predict(X, pi, mu, sigma))\n",
    "\n",
    "color_dict = {0: 'red', 1: 'blue', 2: 'green'}\n",
    "\n",
    "\n",
    "for i, point in enumerate(X[:1000]):\n",
    "    label = labels[i]\n",
    "    color = color_dict[label]\n",
    "    plt.scatter(point[0], point[1], c=color) \n",
    "\n",
    "\n",
    "plt.show()\n"
   ]
  }
 ],
 "metadata": {
  "kernelspec": {
   "display_name": "Python [conda env:online]",
   "language": "python",
   "name": "conda-env-online-py"
  },
  "language_info": {
   "codemirror_mode": {
    "name": "ipython",
    "version": 3
   },
   "file_extension": ".py",
   "mimetype": "text/x-python",
   "name": "python",
   "nbconvert_exporter": "python",
   "pygments_lexer": "ipython3",
   "version": "3.10.10"
  }
 },
 "nbformat": 4,
 "nbformat_minor": 5
}
